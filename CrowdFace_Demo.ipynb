{
  "cells": [
    {
      "cell_type": "markdown",
      "metadata": {},
      "source": [
        "# CrowdFace Demo with BAGEL Integration\n",
        "\n",
        "This notebook demonstrates the CrowdFace system with BAGEL integration for intelligent ad placement."
      ]
    },
    {
      "cell_type": "markdown",
      "metadata": {},
      "source": [
        "## Setup\n",
        "\n",
        "Import required modules and set up the environment."
      ]
    },
    {
      "cell_type": "code",
      "execution_count": null,
      "metadata": {},
      "outputs": [],
      "source": [
        "import os",
        "import sys",
        "import torch",
        "import numpy as np",
        "import cv2",
        "from PIL import Image",
        "",
        "# Import BAGEL components",
        "from src.python.bagel.scene_understanding import BAGELSceneUnderstanding",
        "from src.python.bagel.ad_placement import BAGELAdPlacement",
        "from src.python.bagel.ad_optimization import BAGELAdOptimization",
        "from src.python.bagel_loader import load_bagel_model",
        "from src.python.crowdface_pipeline import CrowdFacePipeline"
      ]
    },
    {
      "cell_type": "markdown",
      "metadata": {},
      "source": [
        "## Usage Example\n",
        "\n",
        "Example of using the CrowdFace pipeline with BAGEL integration."
      ]
    },
    {
      "cell_type": "code",
      "execution_count": null,
      "metadata": {},
      "outputs": [],
      "source": [
        "# Load models",
        "bagel_model, bagel_inferencer = load_bagel_model(\"models/BAGEL-7B-MoT\")",
        "",
        "# Initialize pipeline",
        "pipeline = CrowdFacePipeline(",
        "    sam_model=sam_model,",
        "    sam_processor=sam_processor,",
        "    rvm_model=rvm_model,",
        "    bagel_inferencer=bagel_inferencer",
        ")",
        "",
        "# Process video",
        "pipeline.process_video(",
        "    video_path=\"input.mp4\",",
        "    ad_image=\"ad.png\",",
        "    output_path=\"output.mp4\"",
        ")"
      ]
    }
  ],
  "metadata": {
    "kernelspec": {
      "display_name": "Python 3",
      "language": "python",
      "name": "python3"
    },
    "language_info": {
      "codemirror_mode": {
        "name": "ipython",
        "version": 3
      },
      "file_extension": ".py",
      "mimetype": "text/x-python",
      "name": "python",
      "nbconvert_exporter": "python",
      "pygments_lexer": "ipython3",
      "version": "3.10.0"
    }
  },
  "nbformat": 4,
  "nbformat_minor": 4
}