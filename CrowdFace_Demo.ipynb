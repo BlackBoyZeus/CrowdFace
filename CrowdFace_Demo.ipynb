{
  "cells": [
    {
      "cell_type": "markdown",
      "metadata": {},
      "source": [
        "# CrowdFace Demo: Neural-Adaptive Crowd Segmentation with Contextual Pixel-Space Advertisement Integration\n",
        "\n",
        "[![Open In Colab](https://colab.research.google.com/assets/colab-badge.svg)](https://colab.research.google.com/github/BlackBoyZeus/CrowdFace/blob/main/CrowdFace_Demo.ipynb)\n",
        "\n",
        "This notebook demonstrates the CrowdFace system, which combines state-of-the-art segmentation models with contextual advertisement placement."
      ]
    },
    {
      "cell_type": "markdown",
      "metadata": {},
      "source": [
        "## Setup and Dependencies\n",
        "\n",
        "First, let's install the required dependencies."
      ]
    },
    {
      "cell_type": "code",
      "execution_count": null,
      "metadata": {},
      "outputs": [],
      "source": [
        "!pip install torch torchvision opencv-python transformers diffusers accelerate safetensors huggingface_hub"
      ]
    },
    {
      "cell_type": "code",
      "execution_count": null,
      "metadata": {},
      "outputs": [],
      "source": [
        "# Clone the Bagel repository",
        "!git clone https://github.com/ByteDance-Seed/Bagel.git",
        "# Add Bagel to the Python path",
        "import sys",
        "sys.path.append(\"Bagel\")",
        "",
        "# Clone the CrowdFace repository to get the implementation files",
        "!git clone https://github.com/BlackBoyZeus/CrowdFace.git",
        "sys.path.append(\"CrowdFace\")"
      ]
    },
    {
      "cell_type": "code",
      "execution_count": null,
      "metadata": {},
      "outputs": [],
      "source": [
        "import os",
        "import torch",
        "import numpy as np",
        "import cv2",
        "from PIL import Image",
        "from tqdm.notebook import tqdm",
        "from huggingface_hub import snapshot_download",
        "from copy import deepcopy",
        "from typing import Dict, List, Optional, Tuple, Union, Any",
        "",
        "# Set Hugging Face token",
        "# Replace with your own token or set in environment variables",
        "HUGGINGFACE_TOKEN = None",
        "",
        "# For Google Colab, we can use the secrets module for more secure handling",
        "try:",
        "    from google.colab import userdata",
        "    # If running in Colab and token is set in secrets, use that instead",
        "    if userdata.get(\"HUGGINGFACE_TOKEN\"):",
        "        HUGGINGFACE_TOKEN = userdata.get(\"HUGGINGFACE_TOKEN\")",
        "    print(\"Running in Google Colab\")",
        "except:",
        "    # Try to get from environment variables",
        "    if os.environ.get(\"HUGGINGFACE_TOKEN\"):",
        "        HUGGINGFACE_TOKEN = os.environ.get(\"HUGGINGFACE_TOKEN\")",
        "    print(\"Running in local environment\")",
        "    ",
        "# If no token is set, prompt the user",
        "if not HUGGINGFACE_TOKEN:",
        "    print(\"\nIMPORTANT: You need a Hugging Face token to access the models.\")",
        "    print(\"Please set your token in the cell below.\")"
      ]
    },
    {
      "cell_type": "code",
      "execution_count": null,
      "metadata": {},
      "outputs": [],
      "source": [
        "# Set your Hugging Face token here if not set above",
        "if not HUGGINGFACE_TOKEN:",
        "    HUGGINGFACE_TOKEN = \"\"  # Enter your token here"
      ]
    },
    {
      "cell_type": "markdown",
      "metadata": {},
      "source": [
        "## Model Loading\n",
        "\n",
        "### 1. Load SAM2 (Segment Anything Model 2)"
      ]
    },
    {
      "cell_type": "code",
      "execution_count": null,
      "metadata": {},
      "outputs": [],
      "source": [
        "from transformers import SamModel, SamProcessor",
        "",
        "# Load SAM2 model and processor",
        "model_id = \"facebook/sam2\"",
        "sam_processor = SamProcessor.from_pretrained(model_id, token=HUGGINGFACE_TOKEN)",
        "sam_model = SamModel.from_pretrained(model_id, token=HUGGINGFACE_TOKEN)",
        "",
        "device = \"cuda\" if torch.cuda.is_available() else \"cpu\"",
        "sam_model = sam_model.to(device)"
      ]
    }
  ],
  "metadata": {
    "kernelspec": {
      "display_name": "Python 3",
      "language": "python",
      "name": "python3"
    },
    "language_info": {
      "codemirror_mode": {
        "name": "ipython",
        "version": 3
      },
      "file_extension": ".py",
      "mimetype": "text/x-python",
      "name": "python",
      "nbconvert_exporter": "python",
      "pygments_lexer": "ipython3",
      "version": "3.10.0"
    }
  },
  "nbformat": 4,
  "nbformat_minor": 4
}