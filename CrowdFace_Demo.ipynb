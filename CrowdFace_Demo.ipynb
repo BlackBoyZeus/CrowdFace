{
  "cells": [
    {
      "cell_type": "markdown",
      "metadata": {},
      "source": [
        "# CrowdFace: Neural-Adaptive Crowd Segmentation with Ad Integration\n",
        "\n",
        "[![Open In Colab](https://colab.research.google.com/assets/colab-badge.svg)](https://colab.research.google.com/github/BlackBoyZeus/CrowdFace/blob/main/CrowdFace_Demo.ipynb)\n",
        "\n",
        "## Complete Product Demo\n",
        "\n",
        "This notebook demonstrates the full CrowdFace system, combining:\n",
        "- **SAM2** (Segment Anything Model 2) for precise crowd detection and segmentation\n",
        "- **RVM** (Robust Video Matting) for high-quality alpha matte generation\n",
        "- **BAGEL** (ByteDance Ad Generation and Embedding Library) for intelligent ad placement\n",
        "\n",
        "### Key Features\n",
        "- Advanced crowd segmentation with state-of-the-art models\n",
        "- Robust video matting for realistic ad integration\n",
        "- Contextual ad placement based on scene understanding\n",
        "- Multi-platform support with GPU acceleration"
      ]
    },
    {
      "cell_type": "code",
      "execution_count": null,
      "metadata": {},
      "outputs": [],
      "source": [
        "# Install dependencies\n",
        "!pip install torch torchvision opencv-python transformers diffusers accelerate safetensors huggingface_hub matplotlib tqdm\n",
        "!pip install git+https://github.com/facebookresearch/segment-anything.git\n",
        "!pip install supervision"
      ]
    },
    {
      "cell_type": "code",
      "execution_count": null,
      "metadata": {},
      "outputs": [],
      "source": [
        "# Import libraries\n",
        "import os\n",
        "import sys\n",
        "import torch\n",
        "import numpy as np\n",
        "import cv2\n",
        "from PIL import Image\n",
        "import matplotlib.pyplot as plt\n",
        "from tqdm.notebook import tqdm\n",
        "from IPython.display import Video, display, HTML\n",
        "import supervision as sv\n",
        "\n",
        "# Check PyTorch and CUDA availability\n",
        "device = torch.device('cuda' if torch.cuda.is_available() else 'cpu')\n",
        "print(f\"Using device: {device}\")\n",
        "print(f\"PyTorch version: {torch.__version__}\")\n",
        "if torch.cuda.is_available():\n",
        "    print(f\"CUDA version: {torch.version.cuda}\")\n",
        "    print(f\"GPU: {torch.cuda.get_device_name(0)}\")"
      ]
    },
    {
      "cell_type": "code",
      "execution_count": null,
      "metadata": {},
      "outputs": [],
      "source": [
        "# Clone repositories and download sample data\n",
        "!git clone https://github.com/PeterL1n/RobustVideoMatting.git\n",
        "\n",
        "# Add to Python path\n",
        "sys.path.append('RobustVideoMatting')\n",
        "\n",
        "# Download a sample video\n",
        "!wget -O sample_video.mp4 https://pixabay.com/videos/download/video-41758_source.mp4?attachment\n",
        "\n",
        "# Download RVM weights\n",
        "!wget -O rvm_mobilenetv3.pth https://github.com/PeterL1n/RobustVideoMatting/releases/download/v1.0.0/rvm_mobilenetv3.pth"
      ]
    },
    {
      "cell_type": "code",
      "execution_count": null,
      "metadata": {},
      "outputs": [],
      "source": [
        "# Set up Hugging Face token for model access\n",
        "import os\n",
        "\n",
        "# Try to get token from environment or Colab secrets\n",
        "HUGGINGFACE_TOKEN = None\n",
        "\n",
        "try:\n",
        "    from google.colab import userdata\n",
        "    if userdata.get('HUGGINGFACE_TOKEN'):\n",
        "        HUGGINGFACE_TOKEN = userdata.get('HUGGINGFACE_TOKEN')\n",
        "        print(\"Using token from Colab secrets\")\n",
        "except:\n",
        "    if os.environ.get('HUGGINGFACE_TOKEN'):\n",
        "        HUGGINGFACE_TOKEN = os.environ.get('HUGGINGFACE_TOKEN')\n",
        "        print(\"Using token from environment variables\")\n",
        "\n",
        "# If no token is found, prompt the user\n",
        "if not HUGGINGFACE_TOKEN:\n",
        "    print(\"No Hugging Face token found. Please enter your token below.\")\n",
        "    HUGGINGFACE_TOKEN = input(\"Enter your Hugging Face token: \")"
      ]
    },
    {
      "cell_type": "code",
      "execution_count": null,
      "metadata": {},
      "outputs": [],
      "source": [
        "# Load SAM2 model\n",
        "from transformers import SamModel, SamProcessor\n",
        "\n",
        "print(\"Loading SAM2 model...\")\n",
        "model_id = \"facebook/sam2\"\n",
        "\n",
        "try:\n",
        "    sam_processor = SamProcessor.from_pretrained(model_id, token=HUGGINGFACE_TOKEN)\n",
        "    sam_model = SamModel.from_pretrained(model_id, token=HUGGINGFACE_TOKEN)\n",
        "    \n",
        "    sam_model = sam_model.to(device)\n",
        "    print(\"SAM2 model loaded successfully\")\n",
        "except Exception as e:\n",
        "    print(f\"Error loading SAM2 model: {e}\")\n",
        "    print(\"Will use a placeholder for demonstration purposes\")\n",
        "    sam_model = None\n",
        "    sam_processor = None"
      ]
    },
    {
      "cell_type": "code",
      "execution_count": null,
      "metadata": {},
      "outputs": [],
      "source": [
        "# Load RVM model\n",
        "try:\n",
        "    from model import MattingNetwork\n",
        "    \n",
        "    # Load RVM model\n",
        "    rvm_model = MattingNetwork('mobilenetv3').eval().to(device)\n",
        "    \n",
        "    # Load weights\n",
        "    rvm_model.load_state_dict(torch.load('rvm_mobilenetv3.pth', map_location=device))\n",
        "    print(\"RVM model loaded successfully\")\n",
        "except Exception as e:\n",
        "    print(f\"Error loading RVM model: {e}\")\n",
        "    print(\"Will use a placeholder for demonstration purposes\")\n",
        "    rvm_model = None"
      ]
    }
  ],
  "metadata": {
    "kernelspec": {
      "display_name": "Python 3",
      "language": "python",
      "name": "python3"
    },
    "language_info": {
      "codemirror_mode": {
        "name": "ipython",
        "version": 3
      },
      "file_extension": ".py",
      "mimetype": "text/x-python",
      "name": "python",
      "nbconvert_exporter": "python",
      "pygments_lexer": "ipython3",
      "version": "3.10.0"
    }
  },
  "nbformat": 4,
  "nbformat_minor": 4
}
